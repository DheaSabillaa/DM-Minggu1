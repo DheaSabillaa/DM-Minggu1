{
 "cells": [
  {
   "cell_type": "code",
   "execution_count": 3,
   "id": "4ff6f599-d20e-4349-9462-241e619bca1a",
   "metadata": {},
   "outputs": [],
   "source": [
    "import numpy as np\n",
    "import matplotlib.pyplot as plt\n",
    "import pandas as pd\n",
    "import seaborn as sns\n",
    "from sklearn.impute import SimpleImputer"
   ]
  },
  {
   "cell_type": "code",
   "execution_count": 5,
   "id": "4aba9a4f-9449-4752-bb2e-96514a396100",
   "metadata": {},
   "outputs": [
    {
     "data": {
      "text/html": [
       "<div>\n",
       "<style scoped>\n",
       "    .dataframe tbody tr th:only-of-type {\n",
       "        vertical-align: middle;\n",
       "    }\n",
       "\n",
       "    .dataframe tbody tr th {\n",
       "        vertical-align: top;\n",
       "    }\n",
       "\n",
       "    .dataframe thead th {\n",
       "        text-align: right;\n",
       "    }\n",
       "</style>\n",
       "<table border=\"1\" class=\"dataframe\">\n",
       "  <thead>\n",
       "    <tr style=\"text-align: right;\">\n",
       "      <th></th>\n",
       "      <th>NO</th>\n",
       "      <th>NAMA</th>\n",
       "      <th>USIA</th>\n",
       "      <th>PARITAS</th>\n",
       "      <th>JARAK KELAHIRAN</th>\n",
       "      <th>RIW HIPERTENSI</th>\n",
       "      <th>RIW PE</th>\n",
       "      <th>OBESITAS</th>\n",
       "      <th>RIW DM</th>\n",
       "      <th>RIW HIPERTENSI/PE DALAM KELUARGA</th>\n",
       "      <th>SOSEK RENDAH</th>\n",
       "      <th>PE/Non PE</th>\n",
       "      <th>Unnamed: 12</th>\n",
       "    </tr>\n",
       "  </thead>\n",
       "  <tbody>\n",
       "    <tr>\n",
       "      <th>0</th>\n",
       "      <td>1</td>\n",
       "      <td>NAMA 1</td>\n",
       "      <td>23 TH</td>\n",
       "      <td>3</td>\n",
       "      <td>&lt; 2 tahun</td>\n",
       "      <td>Tidak</td>\n",
       "      <td>Tidak</td>\n",
       "      <td>Tidak</td>\n",
       "      <td>Ya</td>\n",
       "      <td>Tidak</td>\n",
       "      <td>&gt;UMR</td>\n",
       "      <td>Non PE</td>\n",
       "      <td>NaN</td>\n",
       "    </tr>\n",
       "    <tr>\n",
       "      <th>1</th>\n",
       "      <td>2</td>\n",
       "      <td>NAMA 2</td>\n",
       "      <td>29 TH</td>\n",
       "      <td>2</td>\n",
       "      <td>&lt; 2 tahun</td>\n",
       "      <td>Tidak</td>\n",
       "      <td>PEB</td>\n",
       "      <td>Tidak</td>\n",
       "      <td>Tidak</td>\n",
       "      <td>Ada</td>\n",
       "      <td>&gt;UMR</td>\n",
       "      <td>PE</td>\n",
       "      <td>NaN</td>\n",
       "    </tr>\n",
       "    <tr>\n",
       "      <th>2</th>\n",
       "      <td>3</td>\n",
       "      <td>NAMA 3</td>\n",
       "      <td>20 TH</td>\n",
       "      <td>1</td>\n",
       "      <td>anak pertama</td>\n",
       "      <td>Tidak</td>\n",
       "      <td>Tidak</td>\n",
       "      <td>Tidak</td>\n",
       "      <td>Tidak</td>\n",
       "      <td>Tidak</td>\n",
       "      <td>&gt;UMR</td>\n",
       "      <td>Non PE</td>\n",
       "      <td>NaN</td>\n",
       "    </tr>\n",
       "    <tr>\n",
       "      <th>3</th>\n",
       "      <td>4</td>\n",
       "      <td>NAMA 4</td>\n",
       "      <td>18 TH</td>\n",
       "      <td>1</td>\n",
       "      <td>anak pertama</td>\n",
       "      <td>Tidak</td>\n",
       "      <td>Tidak</td>\n",
       "      <td>Tidak</td>\n",
       "      <td>Tidak</td>\n",
       "      <td>Tidak</td>\n",
       "      <td>&gt;UMR</td>\n",
       "      <td>Non PE</td>\n",
       "      <td>NaN</td>\n",
       "    </tr>\n",
       "    <tr>\n",
       "      <th>4</th>\n",
       "      <td>5</td>\n",
       "      <td>NAMA 5</td>\n",
       "      <td>34 TH</td>\n",
       "      <td>3</td>\n",
       "      <td>&gt; 2 tahun</td>\n",
       "      <td>Tidak</td>\n",
       "      <td>Tidak</td>\n",
       "      <td>Tidak</td>\n",
       "      <td>Tidak</td>\n",
       "      <td>Tidak</td>\n",
       "      <td>&gt;UMR</td>\n",
       "      <td>Non PE</td>\n",
       "      <td>NaN</td>\n",
       "    </tr>\n",
       "    <tr>\n",
       "      <th>...</th>\n",
       "      <td>...</td>\n",
       "      <td>...</td>\n",
       "      <td>...</td>\n",
       "      <td>...</td>\n",
       "      <td>...</td>\n",
       "      <td>...</td>\n",
       "      <td>...</td>\n",
       "      <td>...</td>\n",
       "      <td>...</td>\n",
       "      <td>...</td>\n",
       "      <td>...</td>\n",
       "      <td>...</td>\n",
       "      <td>...</td>\n",
       "    </tr>\n",
       "    <tr>\n",
       "      <th>556</th>\n",
       "      <td>558</td>\n",
       "      <td>NAMA 557</td>\n",
       "      <td>40 TH</td>\n",
       "      <td>3</td>\n",
       "      <td>&gt; 2 tahun</td>\n",
       "      <td>Tidak</td>\n",
       "      <td>Tidak</td>\n",
       "      <td>Tidak</td>\n",
       "      <td>Tidak</td>\n",
       "      <td>Tidak</td>\n",
       "      <td>&gt;UMR</td>\n",
       "      <td>Non PE</td>\n",
       "      <td>NaN</td>\n",
       "    </tr>\n",
       "    <tr>\n",
       "      <th>557</th>\n",
       "      <td>559</td>\n",
       "      <td>NAMA 558</td>\n",
       "      <td>28 TH</td>\n",
       "      <td>3</td>\n",
       "      <td>&lt; 2 tahun</td>\n",
       "      <td>Tidak</td>\n",
       "      <td>Tidak</td>\n",
       "      <td>Tidak</td>\n",
       "      <td>Tidak</td>\n",
       "      <td>Tidak</td>\n",
       "      <td>&gt;UMR</td>\n",
       "      <td>Non PE</td>\n",
       "      <td>NaN</td>\n",
       "    </tr>\n",
       "    <tr>\n",
       "      <th>558</th>\n",
       "      <td>560</td>\n",
       "      <td>NAMA 559</td>\n",
       "      <td>41 TH</td>\n",
       "      <td>3</td>\n",
       "      <td>&gt; 2 tahun</td>\n",
       "      <td>Tidak</td>\n",
       "      <td>Tidak</td>\n",
       "      <td>Tidak</td>\n",
       "      <td>Tidak</td>\n",
       "      <td>Tidak</td>\n",
       "      <td>&gt;UMR</td>\n",
       "      <td>Non PE</td>\n",
       "      <td>NaN</td>\n",
       "    </tr>\n",
       "    <tr>\n",
       "      <th>559</th>\n",
       "      <td>561</td>\n",
       "      <td>NAMA 560</td>\n",
       "      <td>32 TH</td>\n",
       "      <td>2</td>\n",
       "      <td>&gt; 2 tahun</td>\n",
       "      <td>Tidak</td>\n",
       "      <td>Tidak</td>\n",
       "      <td>Tidak</td>\n",
       "      <td>Tidak</td>\n",
       "      <td>Tidak</td>\n",
       "      <td>&gt;UMR</td>\n",
       "      <td>Non PE</td>\n",
       "      <td>NaN</td>\n",
       "    </tr>\n",
       "    <tr>\n",
       "      <th>560</th>\n",
       "      <td>562</td>\n",
       "      <td>NAMA 561</td>\n",
       "      <td>30 TH</td>\n",
       "      <td>2</td>\n",
       "      <td>&gt; 2 tahun</td>\n",
       "      <td>Tidak</td>\n",
       "      <td>Tidak</td>\n",
       "      <td>Tidak</td>\n",
       "      <td>Tidak</td>\n",
       "      <td>Tidak</td>\n",
       "      <td>&gt;UMR</td>\n",
       "      <td>Non PE</td>\n",
       "      <td>NaN</td>\n",
       "    </tr>\n",
       "  </tbody>\n",
       "</table>\n",
       "<p>561 rows × 13 columns</p>\n",
       "</div>"
      ],
      "text/plain": [
       "      NO      NAMA   USIA  PARITAS JARAK KELAHIRAN RIW HIPERTENSI RIW PE  \\\n",
       "0      1    NAMA 1  23 TH        3       < 2 tahun          Tidak  Tidak   \n",
       "1      2    NAMA 2  29 TH        2       < 2 tahun          Tidak    PEB   \n",
       "2      3    NAMA 3  20 TH        1    anak pertama          Tidak  Tidak   \n",
       "3      4    NAMA 4  18 TH        1    anak pertama          Tidak  Tidak   \n",
       "4      5    NAMA 5  34 TH        3      > 2 tahun           Tidak  Tidak   \n",
       "..   ...       ...    ...      ...             ...            ...    ...   \n",
       "556  558  NAMA 557  40 TH        3      > 2 tahun           Tidak  Tidak   \n",
       "557  559  NAMA 558  28 TH        3       < 2 tahun          Tidak  Tidak   \n",
       "558  560  NAMA 559  41 TH        3      > 2 tahun           Tidak  Tidak   \n",
       "559  561  NAMA 560  32 TH        2      > 2 tahun           Tidak  Tidak   \n",
       "560  562  NAMA 561  30 TH        2      > 2 tahun           Tidak  Tidak   \n",
       "\n",
       "    OBESITAS RIW DM RIW HIPERTENSI/PE DALAM KELUARGA SOSEK RENDAH PE/Non PE  \\\n",
       "0      Tidak     Ya                            Tidak         >UMR    Non PE   \n",
       "1      Tidak  Tidak                              Ada         >UMR        PE   \n",
       "2      Tidak  Tidak                            Tidak         >UMR    Non PE   \n",
       "3      Tidak  Tidak                            Tidak         >UMR    Non PE   \n",
       "4      Tidak  Tidak                            Tidak         >UMR    Non PE   \n",
       "..       ...    ...                              ...          ...       ...   \n",
       "556    Tidak  Tidak                            Tidak         >UMR    Non PE   \n",
       "557    Tidak  Tidak                            Tidak         >UMR    Non PE   \n",
       "558    Tidak  Tidak                            Tidak         >UMR    Non PE   \n",
       "559    Tidak  Tidak                            Tidak         >UMR    Non PE   \n",
       "560    Tidak  Tidak                            Tidak         >UMR    Non PE   \n",
       "\n",
       "    Unnamed: 12  \n",
       "0           NaN  \n",
       "1           NaN  \n",
       "2           NaN  \n",
       "3           NaN  \n",
       "4           NaN  \n",
       "..          ...  \n",
       "556         NaN  \n",
       "557         NaN  \n",
       "558         NaN  \n",
       "559         NaN  \n",
       "560         NaN  \n",
       "\n",
       "[561 rows x 13 columns]"
      ]
     },
     "execution_count": 5,
     "metadata": {},
     "output_type": "execute_result"
    }
   ],
   "source": [
    "datasets = pd.read_excel('dataKasus-1.xlsx')\n",
    "datasets"
   ]
  },
  {
   "cell_type": "code",
   "execution_count": 6,
   "id": "ab8a3bf0-9491-4761-a394-2a0cf625deef",
   "metadata": {},
   "outputs": [],
   "source": [
    "datasets = datasets.drop(columns=['Unnamed: 12'])"
   ]
  },
  {
   "cell_type": "code",
   "execution_count": 7,
   "id": "4139d492-8f8c-44f1-98a5-70a809c8b21a",
   "metadata": {},
   "outputs": [
    {
     "name": "stdout",
     "output_type": "stream",
     "text": [
      "<class 'pandas.core.frame.DataFrame'>\n",
      "RangeIndex: 561 entries, 0 to 560\n",
      "Data columns (total 12 columns):\n",
      " #   Column                            Non-Null Count  Dtype \n",
      "---  ------                            --------------  ----- \n",
      " 0   NO                                561 non-null    int64 \n",
      " 1   NAMA                              561 non-null    object\n",
      " 2   USIA                              558 non-null    object\n",
      " 3   PARITAS                           561 non-null    int64 \n",
      " 4   JARAK KELAHIRAN                   554 non-null    object\n",
      " 5   RIW HIPERTENSI                    561 non-null    object\n",
      " 6   RIW PE                            561 non-null    object\n",
      " 7   OBESITAS                          561 non-null    object\n",
      " 8   RIW DM                            561 non-null    object\n",
      " 9   RIW HIPERTENSI/PE DALAM KELUARGA  561 non-null    object\n",
      " 10  SOSEK RENDAH                      561 non-null    object\n",
      " 11  PE/Non PE                         561 non-null    object\n",
      "dtypes: int64(2), object(10)\n",
      "memory usage: 52.7+ KB\n"
     ]
    }
   ],
   "source": [
    "datasets.columns = datasets.columns.str.strip()\n",
    "datasets.info()"
   ]
  },
  {
   "cell_type": "code",
   "execution_count": 8,
   "id": "c90d60b3-709e-42bc-8a52-2507753c9b39",
   "metadata": {},
   "outputs": [
    {
     "name": "stdout",
     "output_type": "stream",
     "text": [
      "NO                                  0\n",
      "NAMA                                0\n",
      "USIA                                3\n",
      "PARITAS                             0\n",
      "JARAK KELAHIRAN                     7\n",
      "RIW HIPERTENSI                      0\n",
      "RIW PE                              0\n",
      "OBESITAS                            0\n",
      "RIW DM                              0\n",
      "RIW HIPERTENSI/PE DALAM KELUARGA    0\n",
      "SOSEK RENDAH                        0\n",
      "PE/Non PE                           0\n",
      "dtype: int64\n"
     ]
    }
   ],
   "source": [
    "print(datasets.isnull().sum())"
   ]
  },
  {
   "cell_type": "code",
   "execution_count": 9,
   "id": "e3e772e7-b3e5-447e-a67a-d70665508983",
   "metadata": {},
   "outputs": [
    {
     "name": "stdout",
     "output_type": "stream",
     "text": [
      "USIA\n",
      "28 TH     28\n",
      "25 TH     24\n",
      "31 TH     23\n",
      "29 TH     22\n",
      "24 TH     21\n",
      "          ..\n",
      "30 th      1\n",
      "23         1\n",
      "37         1\n",
      "39 TH      1\n",
      "14 TH      1\n",
      "Name: count, Length: 73, dtype: int64\n"
     ]
    }
   ],
   "source": [
    "# Mengubah data menjadi string dan menghitung nilai unik\n",
    "value_counts = datasets['USIA'].astype(str).value_counts(dropna=False)\n",
    "\n",
    "print(value_counts)"
   ]
  },
  {
   "cell_type": "code",
   "execution_count": 13,
   "id": "4e54daf1-e833-4c04-ac70-a9e959a2feeb",
   "metadata": {},
   "outputs": [],
   "source": [
    "# Membaca file data\n",
    "datasets = pd.read_excel('dataKasus-1.xlsx')\n",
    "\n",
    "# Mengisi nilai kosong dengan string kosong (jika diperlukan)\n",
    "datasets['USIA'] = datasets['USIA'].fillna('')\n",
    "\n",
    "# Konversi kolom USIA ke string terlebih dahulu\n",
    "datasets['USIA'] = datasets['USIA'].astype(str)\n",
    "\n",
    "# Menghapus spasi ekstra dan mengambil angka\n",
    "datasets['USIA'] = datasets['USIA'].str.strip().str.extract(r'(\\d+)')[0]\n",
    "\n",
    "# Mengonversi ke tipe data numerik\n",
    "datasets['USIA'] = pd.to_numeric(datasets['USIA'], errors='coerce')"
   ]
  },
  {
   "cell_type": "code",
   "execution_count": 14,
   "id": "c3202671-f00e-494a-b491-5b61f2d6141f",
   "metadata": {},
   "outputs": [
    {
     "name": "stdout",
     "output_type": "stream",
     "text": [
      "USIA\n",
      "28.0    42\n",
      "31.0    41\n",
      "26.0    39\n",
      "29.0    36\n",
      "25.0    35\n",
      "22.0    35\n",
      "24.0    33\n",
      "27.0    27\n",
      "23.0    26\n",
      "30.0    25\n",
      "33.0    23\n",
      "21.0    22\n",
      "32.0    20\n",
      "20.0    20\n",
      "36.0    18\n",
      "35.0    17\n",
      "38.0    15\n",
      "34.0    14\n",
      "39.0    11\n",
      "41.0    11\n",
      "19.0    10\n",
      "37.0    10\n",
      "40.0     8\n",
      "17.0     5\n",
      "18.0     5\n",
      "15.0     3\n",
      "16.0     3\n",
      "nan      3\n",
      "43.0     2\n",
      "13.0     1\n",
      "14.0     1\n",
      "Name: count, dtype: int64\n"
     ]
    }
   ],
   "source": [
    "# Mengubah data menjadi string dan menghitung nilai unik\n",
    "value_counts = datasets['USIA'].astype(str).value_counts(dropna=False)\n",
    "\n",
    "print(value_counts)"
   ]
  },
  {
   "cell_type": "code",
   "execution_count": 15,
   "id": "2603ae96-1e26-4518-807e-e2db83671980",
   "metadata": {},
   "outputs": [
    {
     "name": "stdout",
     "output_type": "stream",
     "text": [
      "PARITAS\n",
      "1    228\n",
      "2    186\n",
      "3     82\n",
      "0     39\n",
      "4     20\n",
      "5      3\n",
      "6      3\n",
      "Name: count, dtype: int64\n"
     ]
    }
   ],
   "source": [
    "# Mengubah data menjadi string dan menghitung nilai unik\n",
    "value_counts = datasets['PARITAS'].astype(str).value_counts(dropna=False)\n",
    "print(value_counts)"
   ]
  },
  {
   "cell_type": "code",
   "execution_count": 16,
   "id": "bf88fb32-4f07-4fc0-89e2-f1b76ac9ff51",
   "metadata": {},
   "outputs": [
    {
     "name": "stdout",
     "output_type": "stream",
     "text": [
      "JARAK KELAHIRAN\n",
      "anak pertama    260\n",
      "> 2 tahun       211\n",
      "< 2 tahun        81\n",
      "nan               7\n",
      "> 2 tahun         2\n",
      "Name: count, dtype: int64\n"
     ]
    }
   ],
   "source": [
    "# Mengubah data menjadi string dan menghitung nilai unik\n",
    "value_counts = datasets['JARAK KELAHIRAN'].astype(str).value_counts(dropna=False)\n",
    "\n",
    "print(value_counts)"
   ]
  },
  {
   "cell_type": "code",
   "execution_count": 17,
   "id": "6e87d401-1f6d-4bf2-94c1-b14c0650273d",
   "metadata": {},
   "outputs": [],
   "source": [
    "imputer = SimpleImputer(strategy='most_frequent')\n",
    "from sklearn.preprocessing import LabelEncoder\n",
    "\n",
    "datasets['JARAK KELAHIRAN'] = imputer.fit_transform(datasets[['JARAK KELAHIRAN']]).ravel()\n",
    "# Mengganti nilai '> 2 tahun ' dengan '> 2 tahun'\n",
    "datasets['JARAK KELAHIRAN'] = datasets['JARAK KELAHIRAN'].replace('> 2 tahun ', '> 2 tahun')"
   ]
  },
  {
   "cell_type": "code",
   "execution_count": 18,
   "id": "a071c5bb-1c8b-45bc-b97e-6194d0f4a875",
   "metadata": {},
   "outputs": [
    {
     "name": "stdout",
     "output_type": "stream",
     "text": [
      "JARAK KELAHIRAN\n",
      "anak pertama    267\n",
      "> 2 tahun       213\n",
      "< 2 tahun        81\n",
      "Name: count, dtype: int64\n"
     ]
    }
   ],
   "source": [
    "# Mengubah data menjadi string dan menghitung nilai unik\n",
    "value_counts = datasets['JARAK KELAHIRAN'].astype(str).value_counts(dropna=False)\n",
    "\n",
    "print(value_counts)"
   ]
  },
  {
   "cell_type": "code",
   "execution_count": 19,
   "id": "a7542083-71a9-47b8-85e3-cbe95869eca1",
   "metadata": {},
   "outputs": [
    {
     "name": "stdout",
     "output_type": "stream",
     "text": [
      "RIW HIPERTENSI\n",
      "Tidak    508\n",
      "Ya        53\n",
      "Name: count, dtype: int64\n"
     ]
    }
   ],
   "source": [
    "# Mengubah data menjadi string dan menghitung nilai unik\n",
    "value_counts = datasets['RIW HIPERTENSI'].astype(str).value_counts(dropna=False)\n",
    "\n",
    "print(value_counts)"
   ]
  },
  {
   "cell_type": "code",
   "execution_count": 20,
   "id": "a37151b2-f767-4f1a-8dbc-d811fab75635",
   "metadata": {},
   "outputs": [
    {
     "name": "stdout",
     "output_type": "stream",
     "text": [
      "RIW PE\n",
      "Tidak                     526\n",
      "PEB                        19\n",
      "PE                          6\n",
      "HELLP SYNDROM               2\n",
      "Impending PE                2\n",
      "Impending Eklamsia          1\n",
      "Kejang Konvulsi             1\n",
      "impending eklamsia          1\n",
      "PE, HELLP Syndrome          1\n",
      "PEB impending eklampsi      1\n",
      "Impending Ekalmsia          1\n",
      "Name: count, dtype: int64\n"
     ]
    }
   ],
   "source": [
    "# Mengubah data menjadi string dan menghitung nilai unik\n",
    "value_counts = datasets['RIW PE'].astype(str).value_counts(dropna=False)\n",
    "\n",
    "print(value_counts)"
   ]
  },
  {
   "cell_type": "code",
   "execution_count": 22,
   "id": "7e45b948-2d6d-41a1-84d0-3a7cbf2c6358",
   "metadata": {},
   "outputs": [],
   "source": [
    "datasets['RIW PE'] = datasets['RIW PE'].replace(\n",
    "    to_replace=['PEB', 'PE', 'HELLP SYNDROM', 'Impending PE', 'Impending Eklamsia', 'PE, HELLP Syndrome', 'PEB impending eklampsi', 'Impending Ekalmsia', 'Kejang Konvulsi', 'impending eklamsia'],\n",
    "    value='Ada'\n",
    ")"
   ]
  },
  {
   "cell_type": "code",
   "execution_count": 23,
   "id": "b88b6cbe-6441-4f71-b319-dcf60c8d672b",
   "metadata": {},
   "outputs": [
    {
     "name": "stdout",
     "output_type": "stream",
     "text": [
      "RIW PE\n",
      "Tidak    526\n",
      "Ada       35\n",
      "Name: count, dtype: int64\n"
     ]
    }
   ],
   "source": [
    "# Mengubah data menjadi string dan menghitung nilai unik\n",
    "value_counts = datasets['RIW PE'].astype(str).value_counts(dropna=False)\n",
    "\n",
    "print(value_counts)"
   ]
  },
  {
   "cell_type": "code",
   "execution_count": 24,
   "id": "03c4e3c4-1fd4-4f58-9469-f4b357b5d0cd",
   "metadata": {},
   "outputs": [
    {
     "name": "stdout",
     "output_type": "stream",
     "text": [
      "OBESITAS\n",
      "Tidak    556\n",
      "Ya         5\n",
      "Name: count, dtype: int64\n"
     ]
    }
   ],
   "source": [
    "# Mengubah data menjadi string dan menghitung nilai unik\n",
    "value_counts = datasets['OBESITAS'].astype(str).value_counts(dropna=False)\n",
    "\n",
    "print(value_counts)"
   ]
  },
  {
   "cell_type": "code",
   "execution_count": 25,
   "id": "1feca375-85e0-4809-95eb-9260a1e3e0e4",
   "metadata": {},
   "outputs": [
    {
     "name": "stdout",
     "output_type": "stream",
     "text": [
      "RIW DM\n",
      "Tidak    556\n",
      "Ya         5\n",
      "Name: count, dtype: int64\n"
     ]
    }
   ],
   "source": [
    "# Mengubah data menjadi string dan menghitung nilai unik\n",
    "value_counts = datasets['RIW DM'].astype(str).value_counts(dropna=False)\n",
    "\n",
    "print(value_counts)"
   ]
  },
  {
   "cell_type": "code",
   "execution_count": 26,
   "id": "4770d8e6-f36d-44a8-8ff9-ad08e548d7d4",
   "metadata": {},
   "outputs": [
    {
     "name": "stdout",
     "output_type": "stream",
     "text": [
      "RIW HIPERTENSI/PE DALAM KELUARGA\n",
      "Tidak    550\n",
      "Ada       11\n",
      "Name: count, dtype: int64\n"
     ]
    }
   ],
   "source": [
    "value_counts = datasets['RIW HIPERTENSI/PE DALAM KELUARGA'].astype(str).value_counts(dropna=False)\n",
    "\n",
    "print(value_counts)"
   ]
  },
  {
   "cell_type": "code",
   "execution_count": 27,
   "id": "870c6a89-165e-4399-b21b-e0cc8d261620",
   "metadata": {},
   "outputs": [
    {
     "name": "stdout",
     "output_type": "stream",
     "text": [
      "SOSEK RENDAH\n",
      ">UMR    557\n",
      "<UMR      4\n",
      "Name: count, dtype: int64\n"
     ]
    }
   ],
   "source": [
    "value_counts = datasets['SOSEK RENDAH'].astype(str).value_counts(dropna=False)\n",
    "\n",
    "print(value_counts)"
   ]
  },
  {
   "cell_type": "code",
   "execution_count": 28,
   "id": "ef1cc07d-0e19-4470-9695-05ad67f48a47",
   "metadata": {},
   "outputs": [
    {
     "name": "stdout",
     "output_type": "stream",
     "text": [
      "PE/Non PE\n",
      "Non PE                    520\n",
      "PEB                        20\n",
      "PE                         17\n",
      "Eklamsia                    1\n",
      "PE gemelli                  1\n",
      "PEB impending eklampsi      1\n",
      "PE                          1\n",
      "Name: count, dtype: int64\n"
     ]
    }
   ],
   "source": [
    "value_counts = datasets['PE/Non PE'].astype(str).value_counts(dropna=False)\n",
    "\n",
    "print(value_counts)"
   ]
  },
  {
   "cell_type": "code",
   "execution_count": 29,
   "id": "a2c48173-5451-49ab-aa30-69c2a341724a",
   "metadata": {},
   "outputs": [],
   "source": [
    "datasets['PE/Non PE'] = datasets['PE/Non PE'].replace(\n",
    "    to_replace=['PEB', 'PE', 'Eklamsia', 'PE gemelli', 'PEB impending eklampsi', 'PE '],\n",
    "    value='PE'\n",
    ")"
   ]
  },
  {
   "cell_type": "code",
   "execution_count": 30,
   "id": "8cb30b4a-70fe-4edd-a4b3-57d03cadc0cf",
   "metadata": {},
   "outputs": [
    {
     "name": "stdout",
     "output_type": "stream",
     "text": [
      "PE/Non PE\n",
      "Non PE    520\n",
      "PE         41\n",
      "Name: count, dtype: int64\n"
     ]
    }
   ],
   "source": [
    "value_counts = datasets['PE/Non PE'].astype(str).value_counts(dropna=False)\n",
    "\n",
    "print(value_counts)"
   ]
  },
  {
   "cell_type": "markdown",
   "id": "0b45645b-d958-46f1-81f7-e5061ebad04a",
   "metadata": {},
   "source": [
    "import pandas as pd\n",
    "import matplotlib.pyplot as plt\n",
    "\n",
    "value_counts = datasets['PE/Non PE'].value_counts()\n",
    "\n",
    "# Create a bar chart\n",
    "ax = value_counts.plot(kind='bar', color=['skyblue', 'orange'])\n",
    "\n",
    "# Add title and labels\n",
    "plt.title('PE/Non PE Distribution')\n",
    "plt.xlabel('Category')\n",
    "plt.ylabel('Count')\n",
    "\n",
    "# Add count labels on top of each bar\n",
    "for i, count in enumerate(value_counts):\n",
    "    ax.text(i, count , str(count), ha='center', va='bottom')\n",
    "\n",
    "# Display the bar chart\n",
    "plt.show()"
   ]
  },
  {
   "cell_type": "code",
   "execution_count": 32,
   "id": "4171a131-ea56-4d80-a3c6-73272bdd1b5a",
   "metadata": {},
   "outputs": [
    {
     "name": "stdout",
     "output_type": "stream",
     "text": [
      "<class 'pandas.core.frame.DataFrame'>\n",
      "RangeIndex: 561 entries, 0 to 560\n",
      "Data columns (total 13 columns):\n",
      " #   Column                            Non-Null Count  Dtype  \n",
      "---  ------                            --------------  -----  \n",
      " 0   NO                                561 non-null    int64  \n",
      " 1   NAMA                              561 non-null    object \n",
      " 2   USIA                              558 non-null    float64\n",
      " 3   PARITAS                           561 non-null    int64  \n",
      " 4   JARAK KELAHIRAN                   561 non-null    object \n",
      " 5   RIW HIPERTENSI                    561 non-null    object \n",
      " 6   RIW PE                            561 non-null    object \n",
      " 7   OBESITAS                          561 non-null    object \n",
      " 8   RIW DM                            561 non-null    object \n",
      " 9   RIW HIPERTENSI/PE DALAM KELUARGA  561 non-null    object \n",
      " 10  SOSEK RENDAH                      561 non-null    object \n",
      " 11  PE/Non PE                         561 non-null    object \n",
      " 12  Unnamed: 12                       11 non-null     object \n",
      "dtypes: float64(1), int64(2), object(10)\n",
      "memory usage: 57.1+ KB\n"
     ]
    }
   ],
   "source": [
    "datasets.info()"
   ]
  },
  {
   "cell_type": "markdown",
   "id": "6c09e125-89af-4d0e-b214-2311fc68aa37",
   "metadata": {},
   "source": [
    "## Konversi Nilai Ke Numerik"
   ]
  },
  {
   "cell_type": "code",
   "execution_count": 34,
   "id": "27fa331a-1415-4f14-87f3-5a0ec2d1284c",
   "metadata": {},
   "outputs": [],
   "source": [
    "# label_encoder = LabelEncoder()\n",
    "# datasets['PARITAS'] = label_encoder.fit_transform(datasets['PARITAS'])"
   ]
  },
  {
   "cell_type": "code",
   "execution_count": 35,
   "id": "0d214e7f-92fa-4ec3-b33e-2b723243c093",
   "metadata": {},
   "outputs": [
    {
     "name": "stdout",
     "output_type": "stream",
     "text": [
      "PARITAS\n",
      "1    228\n",
      "2    186\n",
      "3     82\n",
      "0     39\n",
      "4     20\n",
      "5      3\n",
      "6      3\n",
      "Name: count, dtype: int64\n"
     ]
    }
   ],
   "source": [
    "# Mengubah data menjadi string dan menghitung nilai unik\n",
    "value_counts = datasets['PARITAS'].astype(str).value_counts(dropna=False)\n",
    "\n",
    "print(value_counts)"
   ]
  },
  {
   "cell_type": "code",
   "execution_count": 36,
   "id": "d9a5e047-3cdc-4b0e-b9d3-69a0d1f2b6c1",
   "metadata": {},
   "outputs": [],
   "source": [
    "label_encoder = LabelEncoder()\n",
    "datasets['JARAK KELAHIRAN'] = label_encoder.fit_transform(datasets['JARAK KELAHIRAN'])"
   ]
  },
  {
   "cell_type": "code",
   "execution_count": 37,
   "id": "123c323a-ad7b-4188-a9af-007ba0ae900b",
   "metadata": {},
   "outputs": [
    {
     "name": "stdout",
     "output_type": "stream",
     "text": [
      "JARAK KELAHIRAN\n",
      "2    267\n",
      "1    213\n",
      "0     81\n",
      "Name: count, dtype: int64\n"
     ]
    }
   ],
   "source": [
    "# Mengubah data menjadi string dan menghitung nilai unik\n",
    "value_counts = datasets['JARAK KELAHIRAN'].astype(str).value_counts(dropna=False)\n",
    "\n",
    "print(value_counts)"
   ]
  },
  {
   "cell_type": "code",
   "execution_count": 38,
   "id": "9880614e-f691-48d3-84ad-f13e8accba5f",
   "metadata": {},
   "outputs": [],
   "source": [
    "from sklearn.preprocessing import OneHotEncoder"
   ]
  },
  {
   "cell_type": "code",
   "execution_count": 39,
   "id": "954b8e68-5eb7-40f2-b935-e85e0cde4230",
   "metadata": {},
   "outputs": [],
   "source": [
    "# Inisialisasi OneHotEncoder\n",
    "encoder = OneHotEncoder(sparse_output=False)  # sparse_output=False agar output berupa array, bukan sparse matrix\n",
    "\n",
    "# Terapkan OneHotEncoder\n",
    "one_hot_encoded = encoder.fit_transform(datasets[['RIW HIPERTENSI']])\n",
    "\n",
    "# Dapatkan nama kolom baru dari encoder\n",
    "one_hot_columns = encoder.get_feature_names_out(['RIW HIPERTENSI'])\n",
    "\n",
    "# Buat DataFrame baru dari hasil One-Hot Encoding\n",
    "one_hot_df = pd.DataFrame(one_hot_encoded, columns=one_hot_columns)\n",
    "\n",
    "# Gabungkan dengan DataFrame asli (atau gantikan kolom asli)\n",
    "datasets = pd.concat([datasets.drop('RIW HIPERTENSI', axis=1), one_hot_df], axis=1)"
   ]
  },
  {
   "cell_type": "code",
   "execution_count": 40,
   "id": "7607a9f4-1e15-483f-978a-2b4901619ba1",
   "metadata": {},
   "outputs": [],
   "source": [
    "# Inisialisasi OneHotEncoder\n",
    "encoder = OneHotEncoder(sparse_output=False)  # sparse_output=False agar output berupa array, bukan sparse matrix\n",
    "\n",
    "# Terapkan OneHotEncoder\n",
    "one_hot_encoded = encoder.fit_transform(datasets[['RIW PE']])\n",
    "\n",
    "# Dapatkan nama kolom baru dari encoder\n",
    "one_hot_columns = encoder.get_feature_names_out(['RIW PE'])\n",
    "\n",
    "# Buat DataFrame baru dari hasil One-Hot Encoding\n",
    "one_hot_df = pd.DataFrame(one_hot_encoded, columns=one_hot_columns)\n",
    "\n",
    "# Gabungkan dengan DataFrame asli (atau gantikan kolom asli)\n",
    "datasets = pd.concat([datasets.drop('RIW PE', axis=1), one_hot_df], axis=1)"
   ]
  },
  {
   "cell_type": "code",
   "execution_count": 41,
   "id": "02dccf1f-86e2-4d54-9c29-99049eec5a63",
   "metadata": {},
   "outputs": [],
   "source": [
    "# Inisialisasi OneHotEncoder\n",
    "encoder = OneHotEncoder(sparse_output=False)  # sparse_output=False agar output berupa array, bukan sparse matrix\n",
    "\n",
    "# Terapkan OneHotEncoder\n",
    "one_hot_encoded = encoder.fit_transform(datasets[['OBESITAS']])\n",
    "\n",
    "# Dapatkan nama kolom baru dari encoder\n",
    "one_hot_columns = encoder.get_feature_names_out(['OBESITAS'])\n",
    "\n",
    "# Buat DataFrame baru dari hasil One-Hot Encoding\n",
    "one_hot_df = pd.DataFrame(one_hot_encoded, columns=one_hot_columns)\n",
    "\n",
    "# Gabungkan dengan DataFrame asli (atau gantikan kolom asli)\n",
    "datasets = pd.concat([datasets.drop('OBESITAS', axis=1), one_hot_df], axis=1)"
   ]
  },
  {
   "cell_type": "code",
   "execution_count": 42,
   "id": "e00f73de-7832-4d7a-b0c3-8fa5c893fbb7",
   "metadata": {},
   "outputs": [],
   "source": [
    "# Inisialisasi OneHotEncoder\n",
    "encoder = OneHotEncoder(sparse_output=False)  # sparse_output=False agar output berupa array, bukan sparse matrix\n",
    "\n",
    "# Terapkan OneHotEncoder\n",
    "one_hot_encoded = encoder.fit_transform(datasets[['RIW DM']])\n",
    "\n",
    "# Dapatkan nama kolom baru dari encoder\n",
    "one_hot_columns = encoder.get_feature_names_out(['RIW DM'])\n",
    "\n",
    "# Buat DataFrame baru dari hasil One-Hot Encoding\n",
    "one_hot_df = pd.DataFrame(one_hot_encoded, columns=one_hot_columns)\n",
    "\n",
    "# Gabungkan dengan DataFrame asli (atau gantikan kolom asli)\n",
    "datasets = pd.concat([datasets.drop('RIW DM', axis=1), one_hot_df], axis=1)"
   ]
  },
  {
   "cell_type": "code",
   "execution_count": 43,
   "id": "44f3c6cd-043d-4988-ba94-01601fbe7b92",
   "metadata": {},
   "outputs": [],
   "source": [
    "# datasets['RIW HIPERTENSI/PE DALAM KELUARGA'] = label_encoder.fit_transform(datasets['RIW HIPERTENSI/PE DALAM KELUARGA'])\n",
    "\n",
    "# Inisialisasi OneHotEncoder\n",
    "encoder = OneHotEncoder(sparse_output=False)  # sparse_output=False agar output berupa array, bukan sparse matrix\n",
    "\n",
    "# Terapkan OneHotEncoder\n",
    "one_hot_encoded = encoder.fit_transform(datasets[['RIW HIPERTENSI/PE DALAM KELUARGA']])\n",
    "\n",
    "# Dapatkan nama kolom baru dari encoder\n",
    "one_hot_columns = encoder.get_feature_names_out(['RIW HIPERTENSI/PE DALAM KELUARGA'])\n",
    "\n",
    "# Buat DataFrame baru dari hasil One-Hot Encoding\n",
    "one_hot_df = pd.DataFrame(one_hot_encoded, columns=one_hot_columns)\n",
    "\n",
    "# Gabungkan dengan DataFrame asli (atau gantikan kolom asli)\n",
    "datasets = pd.concat([datasets.drop('RIW HIPERTENSI/PE DALAM KELUARGA', axis=1), one_hot_df], axis=1)"
   ]
  },
  {
   "cell_type": "code",
   "execution_count": 44,
   "id": "aa907b1a-eb05-4ea2-b528-4a6911776569",
   "metadata": {},
   "outputs": [],
   "source": [
    "# datasets['SOSEK RENDAH'] = label_encoder.fit_transform(datasets['SOSEK RENDAH'])\n",
    "\n",
    "# Inisialisasi OneHotEncoder\n",
    "encoder = OneHotEncoder(sparse_output=False)  # sparse_output=False agar output berupa array, bukan sparse matrix\n",
    "\n",
    "# Terapkan OneHotEncoder\n",
    "one_hot_encoded = encoder.fit_transform(datasets[['SOSEK RENDAH']])\n",
    "\n",
    "# Dapatkan nama kolom baru dari encoder\n",
    "one_hot_columns = encoder.get_feature_names_out(['SOSEK RENDAH'])\n",
    "\n",
    "# Buat DataFrame baru dari hasil One-Hot Encoding\n",
    "one_hot_df = pd.DataFrame(one_hot_encoded, columns=one_hot_columns)\n",
    "\n",
    "# Gabungkan dengan DataFrame asli (atau gantikan kolom asli)\n",
    "datasets = pd.concat([datasets.drop('SOSEK RENDAH', axis=1), one_hot_df], axis=1)"
   ]
  }
 ],
 "metadata": {
  "kernelspec": {
   "display_name": "Python 3 (ipykernel)",
   "language": "python",
   "name": "python3"
  },
  "language_info": {
   "codemirror_mode": {
    "name": "ipython",
    "version": 3
   },
   "file_extension": ".py",
   "mimetype": "text/x-python",
   "name": "python",
   "nbconvert_exporter": "python",
   "pygments_lexer": "ipython3",
   "version": "3.12.6"
  }
 },
 "nbformat": 4,
 "nbformat_minor": 5
}
